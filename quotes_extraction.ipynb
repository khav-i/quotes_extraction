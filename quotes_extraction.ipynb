{
 "cells": [
  {
   "cell_type": "markdown",
   "metadata": {
    "id": "gWh2hSfo8syv"
   },
   "source": [
    "# Сбор данных с сайта [quotes](https://quotes.toscrape.com/)"
   ]
  },
  {
   "cell_type": "code",
   "execution_count": 20,
   "metadata": {
    "id": "uJCca7n38hMQ"
   },
   "outputs": [],
   "source": [
    "import json\n",
    "import requests\n",
    "import uuid\n",
    "from bs4 import BeautifulSoup\n",
    "from tqdm import tqdm"
   ]
  },
  {
   "cell_type": "code",
   "execution_count": 21,
   "metadata": {},
   "outputs": [
    {
     "name": "stderr",
     "output_type": "stream",
     "text": [
      "100%|██████████| 10/10 [00:06<00:00,  1.53it/s]\n",
      "100%|██████████| 10/10 [00:05<00:00,  1.76it/s]\n",
      "100%|██████████| 10/10 [00:04<00:00,  2.45it/s]\n",
      "100%|██████████| 10/10 [00:03<00:00,  3.08it/s]\n",
      "100%|██████████| 10/10 [00:03<00:00,  3.11it/s]\n",
      "100%|██████████| 10/10 [00:05<00:00,  1.82it/s]\n",
      "100%|██████████| 10/10 [00:02<00:00,  4.06it/s]\n",
      "100%|██████████| 10/10 [00:05<00:00,  1.75it/s]\n",
      "100%|██████████| 10/10 [00:00<?, ?it/s]\n",
      "100%|██████████| 10/10 [00:04<00:00,  2.03it/s]"
     ]
    },
    {
     "name": "stdout",
     "output_type": "stream",
     "text": [
      "\n",
      "Ура! Мы спарсили 10 страниц!\n",
      "\n",
      "\n",
      "Данные успешно собраны и сохранены в quotes.json\n"
     ]
    },
    {
     "name": "stderr",
     "output_type": "stream",
     "text": [
      "\n"
     ]
    }
   ],
   "source": [
    "# Функция для получения информации об авторе\n",
    "def get_author_info(author_url):\n",
    "    try:\n",
    "        response = requests.get(author_url)\n",
    "        response.raise_for_status()  # Проверка на успешный статус код\n",
    "    except requests.RequestException as e:\n",
    "        print(f\"Ошибка при запросе к {author_url}: {e}\")\n",
    "        return None  # Возвращаем None в случае ошибки\n",
    "\n",
    "    soup = BeautifulSoup(response.text, 'html.parser')\n",
    "\n",
    "    # Извлечение информации об авторе\n",
    "    birth_date = soup.find('span', class_='author-born-date').get_text()\n",
    "    birth_place = soup.find('span', class_='author-born-location').get_text()\n",
    "    description = soup.find('div', class_='author-description').get_text(strip=True)\n",
    "\n",
    "    return {\n",
    "        \"birth_date\": birth_date,\n",
    "        \"birth_place\": birth_place,\n",
    "        \"description\": description\n",
    "    }\n",
    "\n",
    "# URL сайта\n",
    "base_url = \"https://quotes.toscrape.com\"\n",
    "url = f\"{base_url}/\"\n",
    "\n",
    "# Словарь для хранения информации об авторах\n",
    "authors_info = {}\n",
    "# Словарь для хранения цитат с ID\n",
    "quotes_dict = {}\n",
    "# Множество для проверки оригинальности цитат\n",
    "unique_quotes = set()\n",
    "# Счётчик страниц\n",
    "pgs_cnt = 1\n",
    "\n",
    "while url:\n",
    "    try:\n",
    "        response = requests.get(url)\n",
    "        response.raise_for_status()  # Проверка на успешный статус код\n",
    "    except requests.RequestException as e:\n",
    "        print(f\"Ошибка при запросе к {url}: {e}\")\n",
    "        break  # Завершаем выполнение программы в случае ошибки\n",
    "\n",
    "    soup = BeautifulSoup(response.text, 'html.parser')\n",
    "\n",
    "    # Сбор данных с текущей страницы\n",
    "    for quote in tqdm(soup.find_all(\"div\", class_=\"quote\")):\n",
    "        text = quote.find(\"span\", class_=\"text\").get_text()\n",
    "        author = quote.find(\"small\", class_=\"author\").get_text()\n",
    "\n",
    "        # Проверка на оригинальность цитаты\n",
    "        if text in unique_quotes:\n",
    "            continue  # Пропускаем, если цитата уже существует\n",
    "        unique_quotes.add(text)  # Добавляем цитату в множество\n",
    "\n",
    "        # Получение ссылки на страницу автора\n",
    "        author_link = quote.find(\"small\", class_=\"author\").find_next_sibling(\"a\")['href']\n",
    "        author_url = f\"{base_url}{author_link}\"\n",
    "\n",
    "        # Проверка, есть ли информация об авторе в словаре\n",
    "        if author not in authors_info:\n",
    "            author_info = get_author_info(author_url)\n",
    "            if author_info is not None:\n",
    "                authors_info[author] = author_info\n",
    "\n",
    "        # Получение информации об авторе из словаря\n",
    "        author_info = authors_info.get(author, {})\n",
    "\n",
    "        # Генерация уникального ID для цитаты\n",
    "        quote_id = str(uuid.uuid4())  # Генерация уникального ID\n",
    "\n",
    "        # Добавление цитаты в словарь с использованием ID\n",
    "        quotes_dict[quote_id] = {\n",
    "            \"text\": text,\n",
    "            \"author\": author,\n",
    "            \"author_info\": author_info,\n",
    "            \"tags\": [tag.get_text() for tag in quote.find_all('a', class_='tag')]  # Добавляем теги в словарь\n",
    "        }\n",
    "\n",
    "    # Поиск ссылки на следующую страницу\n",
    "    next_button = soup.find('li', class_='next')\n",
    "    if next_button:\n",
    "        next_link = next_button.find('a')['href']\n",
    "        url = f\"{base_url}{next_link}\"  # Обновляем URL для следующей страницы\n",
    "        pgs_cnt += 1\n",
    "    else:\n",
    "        url = None  # Если кнопка \"Next\" отсутствует, завершаем цикл\n",
    "        print(f'\\nУра! Мы спарсили {pgs_cnt} страниц!')\n",
    "\n",
    "# Сохранение данных в JSON файл\n",
    "with open(\"quotes.json\", \"w\", encoding=\"utf-8\") as json_file:\n",
    "    json.dump(quotes_dict, json_file, ensure_ascii=False, indent=4)\n",
    "\n",
    "print(\"\\n\\nДанные успешно собраны и сохранены в quotes.json\")"
   ]
  },
  {
   "cell_type": "markdown",
   "metadata": {},
   "source": [
    "Посмотрим на образец."
   ]
  },
  {
   "cell_type": "code",
   "execution_count": 30,
   "metadata": {},
   "outputs": [
    {
     "name": "stdout",
     "output_type": "stream",
     "text": [
      "Number of quotes: 100\n"
     ]
    },
    {
     "data": {
      "text/plain": [
       "{'text': '“It is our choices, Harry, that show what we truly are, far more than our abilities.”',\n",
       " 'author': 'J.K. Rowling',\n",
       " 'author_info': {'birth_date': 'July 31, 1965',\n",
       "  'birth_place': 'in Yate, South Gloucestershire, England, The United Kingdom',\n",
       "  'description': 'See also: Robert GalbraithAlthough she writes under the pen name J.K. Rowling, pronounced like rolling, her name when her first Harry Potter book was published was simply Joanne Rowling. Anticipating that the target audience of young boys might not want to read a book written by a woman, her publishers demanded that she use two initials, rather than her full name. As she had no middle name, she chose K as the second initial of her pen name, from her paternal grandmother Kathleen Ada Bulgen Rowling. She calls herself Jo and has said, \"No one ever called me \\'Joanne\\' when I was young, unless they were angry.\" Following her marriage, she has sometimes used the name Joanne Murray when conducting personal business. During the Leveson Inquiry she gave evidence under the name of Joanne Kathleen Rowling. In a 2012 interview, Rowling noted that she no longer cared that people pronounced her name incorrectly.Rowling was born to Peter James Rowling, a Rolls-Royce aircraft engineer, and Anne Rowling (née Volant), on 31 July 1965 in Yate, Gloucestershire, England, 10 miles (16 km) northeast of Bristol. Her mother Anne was half-French and half-Scottish. Her parents first met on a train departing from King\\'s Cross Station bound for Arbroath in 1964. They married on 14 March 1965. Her mother\\'s maternal grandfather, Dugald Campbell, was born in Lamlash on the Isle of Arran. Her mother\\'s paternal grandfather, Louis Volant, was awarded the Croix de Guerre for exceptional bravery in defending the village of Courcelles-le-Comte during the First World War.Rowling\\'s sister Dianne was born at their home when Rowling was 23 months old. The family moved to the nearby village Winterbourne when Rowling was four. She attended St Michael\\'s Primary School, a school founded by abolitionist William Wilberforce and education reformer Hannah More. Her headmaster at St Michael\\'s, Alfred Dunn, has been suggested as the inspiration for the Harry Potter headmaster Albus Dumbledore.As a child, Rowling often wrote fantasy stories, which she would usually then read to her sister. She recalls that: \"I can still remember me telling her a story in which she fell down a rabbit hole and was fed strawberries by the rabbit family inside it. Certainly the first story I ever wrote down (when I was five or six) was about a rabbit called Rabbit. He got the measles and was visited by his friends, including a giant bee called Miss Bee.\" At the age of nine, Rowling moved to Church Cottage in the Gloucestershire village of Tutshill, close to Chepstow, Wales. When she was a young teenager, her great aunt, who Rowling said \"taught classics and approved of a thirst for knowledge, even of a questionable kind,\" gave her a very old copy of Jessica Mitford\\'s autobiography, Hons and Rebels. Mitford became Rowling\\'s heroine, and Rowling subsequently read all of her books.Rowling has said of her teenage years, in an interview with The New Yorker, \"I wasn’t particularly happy. I think it’s a dreadful time of life.\" She had a difficult homelife; her mother was ill and she had a difficult relationship with her father (she is no longer on speaking terms with him). She attended secondary school at Wyedean School and College, where her mother had worked as a technician in the science department. Rowling said of her adolescence, \"Hermione [a bookish, know-it-all Harry Potter character] is loosely based on me. She\\'s a caricature of me when I was eleven, which I\\'m not particularly proud of.\" Steve Eddy, who taught Rowling English when she first arrived, remembers her as \"not exceptional\" but \"one of a group of girls who were bright, and quite good at English.\" Sean Harris, her best friend in the Upper Sixth owned a turquoise Ford Anglia, which she says inspired the one in her books.'},\n",
       " 'tags': ['abilities', 'choices']}"
      ]
     },
     "execution_count": 30,
     "metadata": {},
     "output_type": "execute_result"
    }
   ],
   "source": [
    "with open('quotes.json', 'r', encoding='utf-8') as f:\n",
    "    quotes = json.load(f)\n",
    "\n",
    "print(f'Number of quotes: {len(quotes)}')\n",
    "\n",
    "quotes[list(quotes.keys())[1]]"
   ]
  }
 ],
 "metadata": {
  "colab": {
   "provenance": []
  },
  "kernelspec": {
   "display_name": "Python 3",
   "name": "python3"
  },
  "language_info": {
   "codemirror_mode": {
    "name": "ipython",
    "version": 3
   },
   "file_extension": ".py",
   "mimetype": "text/x-python",
   "name": "python",
   "nbconvert_exporter": "python",
   "pygments_lexer": "ipython3",
   "version": "3.11.1"
  }
 },
 "nbformat": 4,
 "nbformat_minor": 0
}
