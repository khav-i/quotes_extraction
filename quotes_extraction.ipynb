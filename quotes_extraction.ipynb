{
  "nbformat": 4,
  "nbformat_minor": 0,
  "metadata": {
    "colab": {
      "provenance": []
    },
    "kernelspec": {
      "name": "python3",
      "display_name": "Python 3"
    },
    "language_info": {
      "name": "python"
    }
  },
  "cells": [
    {
      "cell_type": "markdown",
      "source": [
        "# Сбор данных с сайта [quotes](https://quotes.toscrape.com/)"
      ],
      "metadata": {
        "id": "gWh2hSfo8syv"
      }
    },
    {
      "cell_type": "code",
      "source": [
        "import requests\n",
        "from bs4 import BeautifulSoup\n",
        "import json\n",
        "from tqdm import tqdm"
      ],
      "metadata": {
        "id": "uJCca7n38hMQ"
      },
      "execution_count": 5,
      "outputs": []
    },
    {
      "cell_type": "code",
      "source": [
        "# Функция для получения информации об авторе\n",
        "def get_author_info(author_url):\n",
        "    response = requests.get(author_url)\n",
        "    soup = BeautifulSoup(response.text, 'html.parser')\n",
        "\n",
        "    # Извлечение информации об авторе\n",
        "    birth_date = soup.find('span', class_='author-born-date').get_text()\n",
        "    birth_place = soup.find('span', class_='author-born-location').get_text()\n",
        "    description = soup.find('div', class_='author-description').get_text(strip=True)\n",
        "\n",
        "    return {\n",
        "        \"birth_date\": birth_date,\n",
        "        \"birth_place\": birth_place,\n",
        "        \"description\": description\n",
        "    }\n",
        "\n",
        "# URL сайта\n",
        "url = \"https://quotes.toscrape.com/\"\n",
        "\n",
        "# Получение HTML-кода страницы\n",
        "response = requests.get(url)\n",
        "soup = BeautifulSoup(response.text, 'html.parser')\n",
        "\n",
        "# Сбор данных\n",
        "quotes = []\n",
        "for quote in tqdm(soup.find_all(\"div\", class_=\"quote\")):\n",
        "    text = quote.find(\"span\", class_=\"text\").get_text()\n",
        "    author = quote.find(\"small\", class_=\"author\").get_text()\n",
        "\n",
        "    # Получение ссылки на страницу автора\n",
        "    author_link = quote.find(\"small\", class_=\"author\").find_next_sibling(\"a\")['href']\n",
        "    author_url = f\"https://quotes.toscrape.com{author_link}\"\n",
        "\n",
        "    # Получение информации об авторе\n",
        "    author_info = get_author_info(author_url)\n",
        "\n",
        "    quotes.append({\n",
        "        \"text\": text,\n",
        "        \"author\": author,\n",
        "        \"author_info\": author_info\n",
        "    })\n",
        "\n",
        "# Сохранение данных в JSON файл\n",
        "with open(\"quotes_with_authors.json\", \"w\", encoding=\"utf-8\") as json_file:\n",
        "    json.dump(quotes, json_file, ensure_ascii=False, indent=4)\n",
        "\n",
        "print(\"\\n\\nДанные успешно собраны и сохранены в quotes_with_authors.json\")"
      ],
      "metadata": {
        "colab": {
          "base_uri": "https://localhost:8080/"
        },
        "id": "DyfqFVCa_Mvn",
        "outputId": "ebc57de2-e7d5-4f24-bacd-9444c00d5c3c"
      },
      "execution_count": 7,
      "outputs": [
        {
          "output_type": "stream",
          "name": "stderr",
          "text": [
            "100%|██████████| 10/10 [00:03<00:00,  3.15it/s]"
          ]
        },
        {
          "output_type": "stream",
          "name": "stdout",
          "text": [
            "\n",
            "\n",
            "Данные успешно собраны и сохранены в quotes_with_authors.json\n"
          ]
        },
        {
          "output_type": "stream",
          "name": "stderr",
          "text": [
            "\n"
          ]
        }
      ]
    }
  ]
}